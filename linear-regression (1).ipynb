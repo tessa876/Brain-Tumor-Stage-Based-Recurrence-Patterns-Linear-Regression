{
 "cells": [
  {
   "cell_type": "code",
   "execution_count": 1,
   "id": "36dcb8b6",
   "metadata": {
    "ExecuteTime": {
     "end_time": "2024-06-06T17:24:12.117728Z",
     "start_time": "2024-06-06T17:24:12.019443Z"
    },
    "execution": {
     "iopub.execute_input": "2024-06-11T17:08:08.601539Z",
     "iopub.status.busy": "2024-06-11T17:08:08.601064Z",
     "iopub.status.idle": "2024-06-11T17:08:11.485645Z",
     "shell.execute_reply": "2024-06-11T17:08:11.484193Z"
    },
    "papermill": {
     "duration": 2.896929,
     "end_time": "2024-06-11T17:08:11.488383",
     "exception": false,
     "start_time": "2024-06-11T17:08:08.591454",
     "status": "completed"
    },
    "tags": []
   },
   "outputs": [],
   "source": [
    "import pandas as pd\n",
    "import numpy as np\n",
    "import sklearn\n",
    "import category_encoders as ce\n",
    "import os"
   ]
  },
  {
   "cell_type": "code",
   "execution_count": 2,
   "id": "840dd1b0",
   "metadata": {
    "ExecuteTime": {
     "end_time": "2024-06-06T17:20:23.371904Z",
     "start_time": "2024-06-06T17:20:23.2171Z"
    },
    "execution": {
     "iopub.execute_input": "2024-06-11T17:08:11.505846Z",
     "iopub.status.busy": "2024-06-11T17:08:11.505259Z",
     "iopub.status.idle": "2024-06-11T17:08:11.537065Z",
     "shell.execute_reply": "2024-06-11T17:08:11.536022Z"
    },
    "papermill": {
     "duration": 0.044586,
     "end_time": "2024-06-11T17:08:11.540789",
     "exception": false,
     "start_time": "2024-06-11T17:08:11.496203",
     "status": "completed"
    },
    "tags": []
   },
   "outputs": [],
   "source": [
    "KAGGLE_PATH = \"/kaggle/input/brain-tumor-stage-based-recurrence-patterns/BrainTumor.csv\"\n",
    "LOCAL_PATH = \"BrainTumor.csv\"\n",
    "\n",
    "dataset = None\n",
    "\n",
    "if os.path.exists(KAGGLE_PATH):\n",
    "    dataset = KAGGLE_PATH\n",
    "elif os.path.exists(LOCAL_PATH):\n",
    "    dataset = LOCAL_PATH\n",
    "else:\n",
    "    raise Exception(\"Could not find dataset\")\n",
    "    \n",
    "df = pd.read_csv(dataset)"
   ]
  },
  {
   "cell_type": "code",
   "execution_count": 3,
   "id": "7d8b4f80",
   "metadata": {
    "ExecuteTime": {
     "end_time": "2024-06-06T17:20:23.521776Z",
     "start_time": "2024-06-06T17:20:23.478268Z"
    },
    "execution": {
     "iopub.execute_input": "2024-06-11T17:08:11.557759Z",
     "iopub.status.busy": "2024-06-11T17:08:11.557368Z",
     "iopub.status.idle": "2024-06-11T17:08:11.564914Z",
     "shell.execute_reply": "2024-06-11T17:08:11.563770Z"
    },
    "papermill": {
     "duration": 0.018526,
     "end_time": "2024-06-11T17:08:11.567178",
     "exception": false,
     "start_time": "2024-06-11T17:08:11.548652",
     "status": "completed"
    },
    "tags": []
   },
   "outputs": [],
   "source": [
    "df.columns = df.columns.str.lower().str.replace(' ', '_')"
   ]
  },
  {
   "cell_type": "code",
   "execution_count": 4,
   "id": "e3c0be13",
   "metadata": {
    "ExecuteTime": {
     "end_time": "2024-06-06T17:20:23.627313Z",
     "start_time": "2024-06-06T17:20:23.592646Z"
    },
    "execution": {
     "iopub.execute_input": "2024-06-11T17:08:11.584176Z",
     "iopub.status.busy": "2024-06-11T17:08:11.583318Z",
     "iopub.status.idle": "2024-06-11T17:08:11.700563Z",
     "shell.execute_reply": "2024-06-11T17:08:11.699533Z"
    },
    "papermill": {
     "duration": 0.128795,
     "end_time": "2024-06-11T17:08:11.703524",
     "exception": false,
     "start_time": "2024-06-11T17:08:11.574729",
     "status": "completed"
    },
    "tags": []
   },
   "outputs": [
    {
     "data": {
      "text/html": [
       "<div>\n",
       "<style scoped>\n",
       "    .dataframe tbody tr th:only-of-type {\n",
       "        vertical-align: middle;\n",
       "    }\n",
       "\n",
       "    .dataframe tbody tr th {\n",
       "        vertical-align: top;\n",
       "    }\n",
       "\n",
       "    .dataframe thead th {\n",
       "        text-align: right;\n",
       "    }\n",
       "</style>\n",
       "<table border=\"1\" class=\"dataframe\">\n",
       "  <thead>\n",
       "    <tr style=\"text-align: right;\">\n",
       "      <th></th>\n",
       "      <th>patient_id</th>\n",
       "      <th>age</th>\n",
       "      <th>gender</th>\n",
       "      <th>tumor_type</th>\n",
       "      <th>tumor_grade</th>\n",
       "      <th>tumor_location</th>\n",
       "      <th>treatment</th>\n",
       "      <th>treatment_outcome</th>\n",
       "      <th>time_to_recurrence</th>\n",
       "      <th>recurrence_site</th>\n",
       "      <th>survival_time</th>\n",
       "    </tr>\n",
       "  </thead>\n",
       "  <tbody>\n",
       "    <tr>\n",
       "      <th>0</th>\n",
       "      <td>1</td>\n",
       "      <td>45</td>\n",
       "      <td>Male</td>\n",
       "      <td>Glioblastoma</td>\n",
       "      <td>IV</td>\n",
       "      <td>Frontal lobe</td>\n",
       "      <td>Surgery</td>\n",
       "      <td>Partial response</td>\n",
       "      <td>10.0</td>\n",
       "      <td>Temporal lobe</td>\n",
       "      <td>18</td>\n",
       "    </tr>\n",
       "    <tr>\n",
       "      <th>1</th>\n",
       "      <td>2</td>\n",
       "      <td>55</td>\n",
       "      <td>Female</td>\n",
       "      <td>Meningioma</td>\n",
       "      <td>I</td>\n",
       "      <td>Parietal lobe</td>\n",
       "      <td>Surgery</td>\n",
       "      <td>Complete response</td>\n",
       "      <td>NaN</td>\n",
       "      <td>NaN</td>\n",
       "      <td>36</td>\n",
       "    </tr>\n",
       "    <tr>\n",
       "      <th>2</th>\n",
       "      <td>3</td>\n",
       "      <td>60</td>\n",
       "      <td>Male</td>\n",
       "      <td>Astrocytoma</td>\n",
       "      <td>III</td>\n",
       "      <td>Occipital lobe</td>\n",
       "      <td>Surgery + Chemotherapy</td>\n",
       "      <td>Progressive disease</td>\n",
       "      <td>14.0</td>\n",
       "      <td>Frontal lobe</td>\n",
       "      <td>22</td>\n",
       "    </tr>\n",
       "    <tr>\n",
       "      <th>3</th>\n",
       "      <td>4</td>\n",
       "      <td>50</td>\n",
       "      <td>Female</td>\n",
       "      <td>Glioblastoma</td>\n",
       "      <td>IV</td>\n",
       "      <td>Temporal lobe</td>\n",
       "      <td>Surgery + Radiation therapy</td>\n",
       "      <td>Complete response</td>\n",
       "      <td>NaN</td>\n",
       "      <td>NaN</td>\n",
       "      <td>12</td>\n",
       "    </tr>\n",
       "    <tr>\n",
       "      <th>4</th>\n",
       "      <td>5</td>\n",
       "      <td>65</td>\n",
       "      <td>Male</td>\n",
       "      <td>Astrocytoma</td>\n",
       "      <td>II</td>\n",
       "      <td>Frontal lobe</td>\n",
       "      <td>Surgery + Radiation therapy</td>\n",
       "      <td>Partial response</td>\n",
       "      <td>24.0</td>\n",
       "      <td>Frontal lobe</td>\n",
       "      <td>48</td>\n",
       "    </tr>\n",
       "    <tr>\n",
       "      <th>...</th>\n",
       "      <td>...</td>\n",
       "      <td>...</td>\n",
       "      <td>...</td>\n",
       "      <td>...</td>\n",
       "      <td>...</td>\n",
       "      <td>...</td>\n",
       "      <td>...</td>\n",
       "      <td>...</td>\n",
       "      <td>...</td>\n",
       "      <td>...</td>\n",
       "      <td>...</td>\n",
       "    </tr>\n",
       "    <tr>\n",
       "      <th>1995</th>\n",
       "      <td>1996</td>\n",
       "      <td>49</td>\n",
       "      <td>Female</td>\n",
       "      <td>Meningioma</td>\n",
       "      <td>I</td>\n",
       "      <td>Parietal lobe</td>\n",
       "      <td>Radiation</td>\n",
       "      <td>Progressive disease</td>\n",
       "      <td>18.0</td>\n",
       "      <td>Parietal lobe</td>\n",
       "      <td>32</td>\n",
       "    </tr>\n",
       "    <tr>\n",
       "      <th>1996</th>\n",
       "      <td>1997</td>\n",
       "      <td>57</td>\n",
       "      <td>Male</td>\n",
       "      <td>Glioblastoma</td>\n",
       "      <td>IV</td>\n",
       "      <td>Occipital lobe</td>\n",
       "      <td>Surgery</td>\n",
       "      <td>Complete response</td>\n",
       "      <td>NaN</td>\n",
       "      <td>NaN</td>\n",
       "      <td>38</td>\n",
       "    </tr>\n",
       "    <tr>\n",
       "      <th>1997</th>\n",
       "      <td>1998</td>\n",
       "      <td>45</td>\n",
       "      <td>Female</td>\n",
       "      <td>Meningioma</td>\n",
       "      <td>I</td>\n",
       "      <td>Temporal lobe</td>\n",
       "      <td>Chemotherapy</td>\n",
       "      <td>Partial response</td>\n",
       "      <td>20.0</td>\n",
       "      <td>Temporal lobe</td>\n",
       "      <td>44</td>\n",
       "    </tr>\n",
       "    <tr>\n",
       "      <th>1998</th>\n",
       "      <td>1999</td>\n",
       "      <td>62</td>\n",
       "      <td>Male</td>\n",
       "      <td>Astrocytoma</td>\n",
       "      <td>III</td>\n",
       "      <td>Frontal lobe</td>\n",
       "      <td>Radiation</td>\n",
       "      <td>Stable disease</td>\n",
       "      <td>22.0</td>\n",
       "      <td>Frontal lobe</td>\n",
       "      <td>28</td>\n",
       "    </tr>\n",
       "    <tr>\n",
       "      <th>1999</th>\n",
       "      <td>2000</td>\n",
       "      <td>53</td>\n",
       "      <td>Female</td>\n",
       "      <td>Glioblastoma</td>\n",
       "      <td>IV</td>\n",
       "      <td>Parietal lobe</td>\n",
       "      <td>Chemotherapy + Radiation</td>\n",
       "      <td>Progressive disease</td>\n",
       "      <td>14.0</td>\n",
       "      <td>Parietal lobe</td>\n",
       "      <td>32</td>\n",
       "    </tr>\n",
       "  </tbody>\n",
       "</table>\n",
       "<p>2000 rows × 11 columns</p>\n",
       "</div>"
      ],
      "text/plain": [
       "      patient_id  age  gender    tumor_type tumor_grade  tumor_location  \\\n",
       "0              1   45    Male  Glioblastoma          IV    Frontal lobe   \n",
       "1              2   55  Female    Meningioma           I   Parietal lobe   \n",
       "2              3   60    Male   Astrocytoma         III  Occipital lobe   \n",
       "3              4   50  Female  Glioblastoma          IV   Temporal lobe   \n",
       "4              5   65    Male   Astrocytoma          II    Frontal lobe   \n",
       "...          ...  ...     ...           ...         ...             ...   \n",
       "1995        1996   49  Female    Meningioma           I   Parietal lobe   \n",
       "1996        1997   57    Male  Glioblastoma          IV  Occipital lobe   \n",
       "1997        1998   45  Female    Meningioma           I   Temporal lobe   \n",
       "1998        1999   62    Male   Astrocytoma         III    Frontal lobe   \n",
       "1999        2000   53  Female  Glioblastoma          IV   Parietal lobe   \n",
       "\n",
       "                        treatment    treatment_outcome  time_to_recurrence  \\\n",
       "0                         Surgery     Partial response                10.0   \n",
       "1                         Surgery    Complete response                 NaN   \n",
       "2          Surgery + Chemotherapy  Progressive disease                14.0   \n",
       "3     Surgery + Radiation therapy    Complete response                 NaN   \n",
       "4     Surgery + Radiation therapy     Partial response                24.0   \n",
       "...                           ...                  ...                 ...   \n",
       "1995                    Radiation  Progressive disease                18.0   \n",
       "1996                      Surgery    Complete response                 NaN   \n",
       "1997                 Chemotherapy     Partial response                20.0   \n",
       "1998                    Radiation       Stable disease                22.0   \n",
       "1999     Chemotherapy + Radiation  Progressive disease                14.0   \n",
       "\n",
       "     recurrence_site  survival_time  \n",
       "0      Temporal lobe             18  \n",
       "1                NaN             36  \n",
       "2       Frontal lobe             22  \n",
       "3                NaN             12  \n",
       "4       Frontal lobe             48  \n",
       "...              ...            ...  \n",
       "1995   Parietal lobe             32  \n",
       "1996             NaN             38  \n",
       "1997   Temporal lobe             44  \n",
       "1998    Frontal lobe             28  \n",
       "1999   Parietal lobe             32  \n",
       "\n",
       "[2000 rows x 11 columns]"
      ]
     },
     "execution_count": 4,
     "metadata": {},
     "output_type": "execute_result"
    }
   ],
   "source": [
    "df = df.rename(columns={ 'survival_time_(months)' : 'survival_time'})\n",
    "df = df.rename(columns={ 'time_to_recurrence_(months)' : 'time_to_recurrence'})\n",
    "df"
   ]
  },
  {
   "cell_type": "code",
   "execution_count": 5,
   "id": "b07611b3",
   "metadata": {
    "ExecuteTime": {
     "end_time": "2024-06-06T17:20:23.72683Z",
     "start_time": "2024-06-06T17:20:23.628377Z"
    },
    "execution": {
     "iopub.execute_input": "2024-06-11T17:08:11.722116Z",
     "iopub.status.busy": "2024-06-11T17:08:11.721379Z",
     "iopub.status.idle": "2024-06-11T17:08:12.060167Z",
     "shell.execute_reply": "2024-06-11T17:08:12.059281Z"
    },
    "papermill": {
     "duration": 0.351522,
     "end_time": "2024-06-11T17:08:12.063051",
     "exception": false,
     "start_time": "2024-06-11T17:08:11.711529",
     "status": "completed"
    },
    "tags": []
   },
   "outputs": [],
   "source": [
    "import matplotlib.pyplot as plt\n",
    "import seaborn as sns\n",
    "from sklearn.model_selection import train_test_split\n",
    "\n",
    "%matplotlib inline"
   ]
  },
  {
   "cell_type": "code",
   "execution_count": 6,
   "id": "270e72f6",
   "metadata": {
    "ExecuteTime": {
     "end_time": "2024-06-06T17:20:24.692023Z",
     "start_time": "2024-06-06T17:20:23.758968Z"
    },
    "execution": {
     "iopub.execute_input": "2024-06-11T17:08:12.080770Z",
     "iopub.status.busy": "2024-06-11T17:08:12.080376Z",
     "iopub.status.idle": "2024-06-11T17:08:12.473924Z",
     "shell.execute_reply": "2024-06-11T17:08:12.472803Z"
    },
    "papermill": {
     "duration": 0.405314,
     "end_time": "2024-06-11T17:08:12.476524",
     "exception": false,
     "start_time": "2024-06-11T17:08:12.071210",
     "status": "completed"
    },
    "tags": []
   },
   "outputs": [
    {
     "name": "stderr",
     "output_type": "stream",
     "text": [
      "/opt/conda/lib/python3.10/site-packages/seaborn/_oldcore.py:1119: FutureWarning: use_inf_as_na option is deprecated and will be removed in a future version. Convert inf values to NaN before operating instead.\n",
      "  with pd.option_context('mode.use_inf_as_na', True):\n"
     ]
    },
    {
     "data": {
      "text/plain": [
       "<Axes: xlabel='survival_time', ylabel='Count'>"
      ]
     },
     "execution_count": 6,
     "metadata": {},
     "output_type": "execute_result"
    },
    {
     "data": {
      "image/png": "[encoded data removed]",
      "text/plain": [
       "<Figure size 640x480 with 1 Axes>"
      ]
     },
     "metadata": {},
     "output_type": "display_data"
    }
   ],
   "source": [
    "sns.histplot(df.survival_time)"
   ]
  },
  {
   "cell_type": "markdown",
   "id": "c12eda8b",
   "metadata": {
    "papermill": {
     "duration": 0.00834,
     "end_time": "2024-06-11T17:08:12.493784",
     "exception": false,
     "start_time": "2024-06-11T17:08:12.485444",
     "status": "completed"
    },
    "tags": []
   },
   "source": [
    "# One Hot Encoder For Categorical Data"
   ]
  },
  {
   "cell_type": "code",
   "execution_count": 7,
   "id": "033e894f",
   "metadata": {
    "ExecuteTime": {
     "end_time": "2024-06-06T17:20:24.843697Z",
     "start_time": "2024-06-06T17:20:24.708906Z"
    },
    "collapsed": false,
    "execution": {
     "iopub.execute_input": "2024-06-11T17:08:12.512845Z",
     "iopub.status.busy": "2024-06-11T17:08:12.512448Z",
     "iopub.status.idle": "2024-06-11T17:08:12.620410Z",
     "shell.execute_reply": "2024-06-11T17:08:12.619278Z"
    },
    "jupyter": {
     "outputs_hidden": false
    },
    "papermill": {
     "duration": 0.120475,
     "end_time": "2024-06-11T17:08:12.622882",
     "exception": false,
     "start_time": "2024-06-11T17:08:12.502407",
     "status": "completed"
    },
    "tags": []
   },
   "outputs": [
    {
     "data": {
      "text/html": [
       "<div>\n",
       "<style scoped>\n",
       "    .dataframe tbody tr th:only-of-type {\n",
       "        vertical-align: middle;\n",
       "    }\n",
       "\n",
       "    .dataframe tbody tr th {\n",
       "        vertical-align: top;\n",
       "    }\n",
       "\n",
       "    .dataframe thead th {\n",
       "        text-align: right;\n",
       "    }\n",
       "</style>\n",
       "<table border=\"1\" class=\"dataframe\">\n",
       "  <thead>\n",
       "    <tr style=\"text-align: right;\">\n",
       "      <th></th>\n",
       "      <th>patient_id</th>\n",
       "      <th>age</th>\n",
       "      <th>gender_1</th>\n",
       "      <th>gender_2</th>\n",
       "      <th>tumor_type_1</th>\n",
       "      <th>tumor_type_2</th>\n",
       "      <th>tumor_type_3</th>\n",
       "      <th>tumor_grade_1</th>\n",
       "      <th>tumor_grade_2</th>\n",
       "      <th>tumor_grade_3</th>\n",
       "      <th>...</th>\n",
       "      <th>treatment_outcome_2</th>\n",
       "      <th>treatment_outcome_3</th>\n",
       "      <th>treatment_outcome_4</th>\n",
       "      <th>time_to_recurrence</th>\n",
       "      <th>recurrence_site_1</th>\n",
       "      <th>recurrence_site_2</th>\n",
       "      <th>recurrence_site_3</th>\n",
       "      <th>recurrence_site_4</th>\n",
       "      <th>recurrence_site_5</th>\n",
       "      <th>survival_time</th>\n",
       "    </tr>\n",
       "  </thead>\n",
       "  <tbody>\n",
       "    <tr>\n",
       "      <th>0</th>\n",
       "      <td>1</td>\n",
       "      <td>45</td>\n",
       "      <td>1</td>\n",
       "      <td>0</td>\n",
       "      <td>1</td>\n",
       "      <td>0</td>\n",
       "      <td>0</td>\n",
       "      <td>1</td>\n",
       "      <td>0</td>\n",
       "      <td>0</td>\n",
       "      <td>...</td>\n",
       "      <td>0</td>\n",
       "      <td>0</td>\n",
       "      <td>0</td>\n",
       "      <td>10.0</td>\n",
       "      <td>1</td>\n",
       "      <td>0</td>\n",
       "      <td>0</td>\n",
       "      <td>0</td>\n",
       "      <td>0</td>\n",
       "      <td>18</td>\n",
       "    </tr>\n",
       "    <tr>\n",
       "      <th>1</th>\n",
       "      <td>2</td>\n",
       "      <td>55</td>\n",
       "      <td>0</td>\n",
       "      <td>1</td>\n",
       "      <td>0</td>\n",
       "      <td>1</td>\n",
       "      <td>0</td>\n",
       "      <td>0</td>\n",
       "      <td>1</td>\n",
       "      <td>0</td>\n",
       "      <td>...</td>\n",
       "      <td>1</td>\n",
       "      <td>0</td>\n",
       "      <td>0</td>\n",
       "      <td>NaN</td>\n",
       "      <td>0</td>\n",
       "      <td>0</td>\n",
       "      <td>0</td>\n",
       "      <td>0</td>\n",
       "      <td>1</td>\n",
       "      <td>36</td>\n",
       "    </tr>\n",
       "    <tr>\n",
       "      <th>2</th>\n",
       "      <td>3</td>\n",
       "      <td>60</td>\n",
       "      <td>1</td>\n",
       "      <td>0</td>\n",
       "      <td>0</td>\n",
       "      <td>0</td>\n",
       "      <td>1</td>\n",
       "      <td>0</td>\n",
       "      <td>0</td>\n",
       "      <td>1</td>\n",
       "      <td>...</td>\n",
       "      <td>0</td>\n",
       "      <td>1</td>\n",
       "      <td>0</td>\n",
       "      <td>14.0</td>\n",
       "      <td>0</td>\n",
       "      <td>1</td>\n",
       "      <td>0</td>\n",
       "      <td>0</td>\n",
       "      <td>0</td>\n",
       "      <td>22</td>\n",
       "    </tr>\n",
       "    <tr>\n",
       "      <th>3</th>\n",
       "      <td>4</td>\n",
       "      <td>50</td>\n",
       "      <td>0</td>\n",
       "      <td>1</td>\n",
       "      <td>1</td>\n",
       "      <td>0</td>\n",
       "      <td>0</td>\n",
       "      <td>1</td>\n",
       "      <td>0</td>\n",
       "      <td>0</td>\n",
       "      <td>...</td>\n",
       "      <td>1</td>\n",
       "      <td>0</td>\n",
       "      <td>0</td>\n",
       "      <td>NaN</td>\n",
       "      <td>0</td>\n",
       "      <td>0</td>\n",
       "      <td>0</td>\n",
       "      <td>0</td>\n",
       "      <td>1</td>\n",
       "      <td>12</td>\n",
       "    </tr>\n",
       "    <tr>\n",
       "      <th>4</th>\n",
       "      <td>5</td>\n",
       "      <td>65</td>\n",
       "      <td>1</td>\n",
       "      <td>0</td>\n",
       "      <td>0</td>\n",
       "      <td>0</td>\n",
       "      <td>1</td>\n",
       "      <td>0</td>\n",
       "      <td>0</td>\n",
       "      <td>0</td>\n",
       "      <td>...</td>\n",
       "      <td>0</td>\n",
       "      <td>0</td>\n",
       "      <td>0</td>\n",
       "      <td>24.0</td>\n",
       "      <td>0</td>\n",
       "      <td>1</td>\n",
       "      <td>0</td>\n",
       "      <td>0</td>\n",
       "      <td>0</td>\n",
       "      <td>48</td>\n",
       "    </tr>\n",
       "  </tbody>\n",
       "</table>\n",
       "<p>5 rows × 33 columns</p>\n",
       "</div>"
      ],
      "text/plain": [
       "   patient_id  age  gender_1  gender_2  tumor_type_1  tumor_type_2  \\\n",
       "0           1   45         1         0             1             0   \n",
       "1           2   55         0         1             0             1   \n",
       "2           3   60         1         0             0             0   \n",
       "3           4   50         0         1             1             0   \n",
       "4           5   65         1         0             0             0   \n",
       "\n",
       "   tumor_type_3  tumor_grade_1  tumor_grade_2  tumor_grade_3  ...  \\\n",
       "0             0              1              0              0  ...   \n",
       "1             0              0              1              0  ...   \n",
       "2             1              0              0              1  ...   \n",
       "3             0              1              0              0  ...   \n",
       "4             1              0              0              0  ...   \n",
       "\n",
       "   treatment_outcome_2  treatment_outcome_3  treatment_outcome_4  \\\n",
       "0                    0                    0                    0   \n",
       "1                    1                    0                    0   \n",
       "2                    0                    1                    0   \n",
       "3                    1                    0                    0   \n",
       "4                    0                    0                    0   \n",
       "\n",
       "   time_to_recurrence  recurrence_site_1  recurrence_site_2  \\\n",
       "0                10.0                  1                  0   \n",
       "1                 NaN                  0                  0   \n",
       "2                14.0                  0                  1   \n",
       "3                 NaN                  0                  0   \n",
       "4                24.0                  0                  1   \n",
       "\n",
       "   recurrence_site_3  recurrence_site_4  recurrence_site_5  survival_time  \n",
       "0                  0                  0                  0             18  \n",
       "1                  0                  0                  1             36  \n",
       "2                  0                  0                  0             22  \n",
       "3                  0                  0                  1             12  \n",
       "4                  0                  0                  0             48  \n",
       "\n",
       "[5 rows x 33 columns]"
      ]
     },
     "execution_count": 7,
     "metadata": {},
     "output_type": "execute_result"
    }
   ],
   "source": [
    "ce_OHE = ce.OneHotEncoder(cols=['gender','tumor_type', 'tumor_grade', 'tumor_location', 'treatment', 'treatment_outcome', 'recurrence_site'])\n",
    "\n",
    "data1 = ce_OHE.fit_transform(df)\n",
    "data1.head()"
   ]
  },
  {
   "cell_type": "code",
   "execution_count": 8,
   "id": "17b6b476",
   "metadata": {
    "ExecuteTime": {
     "end_time": "2024-06-06T17:20:24.858787Z",
     "start_time": "2024-06-06T17:20:24.845942Z"
    },
    "execution": {
     "iopub.execute_input": "2024-06-11T17:08:12.643032Z",
     "iopub.status.busy": "2024-06-11T17:08:12.642262Z",
     "iopub.status.idle": "2024-06-11T17:08:12.648413Z",
     "shell.execute_reply": "2024-06-11T17:08:12.647232Z"
    },
    "papermill": {
     "duration": 0.018891,
     "end_time": "2024-06-11T17:08:12.650784",
     "exception": false,
     "start_time": "2024-06-11T17:08:12.631893",
     "status": "completed"
    },
    "tags": []
   },
   "outputs": [],
   "source": [
    "y = data1.loc[:, 'survival_time']\n",
    "y = y.fillna(y.mean())"
   ]
  },
  {
   "cell_type": "code",
   "execution_count": 9,
   "id": "78402573",
   "metadata": {
    "ExecuteTime": {
     "end_time": "2024-06-06T17:20:24.889918Z",
     "start_time": "2024-06-06T17:20:24.862372Z"
    },
    "execution": {
     "iopub.execute_input": "2024-06-11T17:08:12.670645Z",
     "iopub.status.busy": "2024-06-11T17:08:12.670234Z",
     "iopub.status.idle": "2024-06-11T17:08:12.692544Z",
     "shell.execute_reply": "2024-06-11T17:08:12.691588Z"
    },
    "papermill": {
     "duration": 0.03522,
     "end_time": "2024-06-11T17:08:12.695217",
     "exception": false,
     "start_time": "2024-06-11T17:08:12.659997",
     "status": "completed"
    },
    "tags": []
   },
   "outputs": [],
   "source": [
    "X = data1.drop(columns=['survival_time', 'patient_id'])\n",
    "X = X.apply(pd.to_numeric, errors='coerce').fillna(X.mean())"
   ]
  },
  {
   "cell_type": "markdown",
   "id": "b15c2ab7",
   "metadata": {
    "papermill": {
     "duration": 0.008671,
     "end_time": "2024-06-11T17:08:12.713212",
     "exception": false,
     "start_time": "2024-06-11T17:08:12.704541",
     "status": "completed"
    },
    "tags": []
   },
   "source": [
    "# Spliting Data"
   ]
  },
  {
   "cell_type": "code",
   "execution_count": 10,
   "id": "fab68f79",
   "metadata": {
    "ExecuteTime": {
     "end_time": "2024-06-06T17:20:24.934345Z",
     "start_time": "2024-06-06T17:20:24.89171Z"
    },
    "execution": {
     "iopub.execute_input": "2024-06-11T17:08:12.733717Z",
     "iopub.status.busy": "2024-06-11T17:08:12.732763Z",
     "iopub.status.idle": "2024-06-11T17:08:12.748078Z",
     "shell.execute_reply": "2024-06-11T17:08:12.747028Z"
    },
    "papermill": {
     "duration": 0.028503,
     "end_time": "2024-06-11T17:08:12.750866",
     "exception": false,
     "start_time": "2024-06-11T17:08:12.722363",
     "status": "completed"
    },
    "tags": []
   },
   "outputs": [],
   "source": [
    "train_ratio = 0.6\n",
    "validation_ratio = 0.2\n",
    "test_ratio = 0.2\n",
    "\n",
    "x_train, x_test, y_train, y_test = train_test_split(X, y, test_size=1 - train_ratio)\n",
    "\n",
    "x_val, x_test, y_val, y_test = train_test_split(x_test, y_test, test_size=test_ratio/(test_ratio + validation_ratio)) \n"
   ]
  },
  {
   "cell_type": "code",
   "execution_count": 11,
   "id": "d1bbc26e",
   "metadata": {
    "ExecuteTime": {
     "end_time": "2024-06-06T17:20:24.942166Z",
     "start_time": "2024-06-06T17:20:24.935157Z"
    },
    "execution": {
     "iopub.execute_input": "2024-06-11T17:08:12.771220Z",
     "iopub.status.busy": "2024-06-11T17:08:12.770431Z",
     "iopub.status.idle": "2024-06-11T17:08:12.778850Z",
     "shell.execute_reply": "2024-06-11T17:08:12.777594Z"
    },
    "papermill": {
     "duration": 0.021313,
     "end_time": "2024-06-11T17:08:12.781281",
     "exception": false,
     "start_time": "2024-06-11T17:08:12.759968",
     "status": "completed"
    },
    "tags": []
   },
   "outputs": [],
   "source": [
    "x_train = np.hstack((np.ones((x_train.shape[0], 1)), x_train))\n",
    "x_test = np.hstack((np.ones((x_test.shape[0], 1)), x_test))"
   ]
  },
  {
   "cell_type": "markdown",
   "id": "c5bdc2fc",
   "metadata": {
    "papermill": {
     "duration": 0.008748,
     "end_time": "2024-06-11T17:08:12.799093",
     "exception": false,
     "start_time": "2024-06-11T17:08:12.790345",
     "status": "completed"
    },
    "tags": []
   },
   "source": [
    "# Using scikit-learn\n"
   ]
  },
  {
   "cell_type": "code",
   "execution_count": 12,
   "id": "7efa725e",
   "metadata": {
    "execution": {
     "iopub.execute_input": "2024-06-11T17:08:12.818918Z",
     "iopub.status.busy": "2024-06-11T17:08:12.818537Z",
     "iopub.status.idle": "2024-06-11T17:08:13.105370Z",
     "shell.execute_reply": "2024-06-11T17:08:13.104200Z"
    },
    "papermill": {
     "duration": 0.300119,
     "end_time": "2024-06-11T17:08:13.108123",
     "exception": false,
     "start_time": "2024-06-11T17:08:12.808004",
     "status": "completed"
    },
    "tags": []
   },
   "outputs": [],
   "source": [
    "from sklearn.metrics import r2_score, mean_absolute_error, mean_squared_error\n",
    "from sklearn.ensemble import RandomForestRegressor\n",
    "from sklearn.model_selection import train_test_split"
   ]
  },
  {
   "cell_type": "code",
   "execution_count": 13,
   "id": "a750e787",
   "metadata": {
    "ExecuteTime": {
     "end_time": "2024-06-06T17:20:26.011114Z",
     "start_time": "2024-06-06T17:20:26.009161Z"
    },
    "collapsed": false,
    "execution": {
     "iopub.execute_input": "2024-06-11T17:08:13.128847Z",
     "iopub.status.busy": "2024-06-11T17:08:13.127838Z",
     "iopub.status.idle": "2024-06-11T17:08:13.591424Z",
     "shell.execute_reply": "2024-06-11T17:08:13.590267Z"
    },
    "jupyter": {
     "outputs_hidden": false
    },
    "papermill": {
     "duration": 0.477503,
     "end_time": "2024-06-11T17:08:13.594734",
     "exception": false,
     "start_time": "2024-06-11T17:08:13.117231",
     "status": "completed"
    },
    "tags": []
   },
   "outputs": [],
   "source": [
    "model = RandomForestRegressor()\n",
    "model.fit(x_train, y_train)\n",
    "# Model Predictions\n",
    "y_preds = model.predict(x_test)"
   ]
  },
  {
   "cell_type": "code",
   "execution_count": 14,
   "id": "b3a81b6f",
   "metadata": {
    "execution": {
     "iopub.execute_input": "2024-06-11T17:08:13.618111Z",
     "iopub.status.busy": "2024-06-11T17:08:13.617289Z",
     "iopub.status.idle": "2024-06-11T17:08:13.625506Z",
     "shell.execute_reply": "2024-06-11T17:08:13.624311Z"
    },
    "papermill": {
     "duration": 0.022291,
     "end_time": "2024-06-11T17:08:13.628278",
     "exception": false,
     "start_time": "2024-06-11T17:08:13.605987",
     "status": "completed"
    },
    "tags": []
   },
   "outputs": [
    {
     "name": "stdout",
     "output_type": "stream",
     "text": [
      "Regression metrics on the test set\n",
      "R2 Score: 0.8127780482698805\n",
      "MAE: 1.5955095519660814\n",
      "MSE: 13.836633662065687\n"
     ]
    }
   ],
   "source": [
    "# Evaluate model using evaluation functions\n",
    "print('Regression metrics on the test set')\n",
    "print(f'R2 Score: {r2_score(y_test, y_preds)}')\n",
    "print(f'MAE: {mean_absolute_error(y_test, y_preds)}')\n",
    "print(f'MSE: {mean_squared_error(y_test, y_preds)}')"
   ]
  },
  {
   "cell_type": "code",
   "execution_count": 15,
   "id": "9bcefbd7",
   "metadata": {
    "execution": {
     "iopub.execute_input": "2024-06-11T17:08:13.648460Z",
     "iopub.status.busy": "2024-06-11T17:08:13.648010Z",
     "iopub.status.idle": "2024-06-11T17:08:13.653250Z",
     "shell.execute_reply": "2024-06-11T17:08:13.652116Z"
    },
    "papermill": {
     "duration": 0.018173,
     "end_time": "2024-06-11T17:08:13.655626",
     "exception": false,
     "start_time": "2024-06-11T17:08:13.637453",
     "status": "completed"
    },
    "tags": []
   },
   "outputs": [],
   "source": [
    "from sklearn.linear_model import LinearRegression"
   ]
  },
  {
   "cell_type": "code",
   "execution_count": 16,
   "id": "a49047ac",
   "metadata": {
    "execution": {
     "iopub.execute_input": "2024-06-11T17:08:13.675684Z",
     "iopub.status.busy": "2024-06-11T17:08:13.675220Z",
     "iopub.status.idle": "2024-06-11T17:08:13.716757Z",
     "shell.execute_reply": "2024-06-11T17:08:13.715044Z"
    },
    "papermill": {
     "duration": 0.056421,
     "end_time": "2024-06-11T17:08:13.721179",
     "exception": false,
     "start_time": "2024-06-11T17:08:13.664758",
     "status": "completed"
    },
    "tags": []
   },
   "outputs": [],
   "source": [
    "model = LinearRegression()\n",
    "model.fit(x_train, y_train)\n",
    "# Model Predictions\n",
    "y_preds = model.predict(x_test)"
   ]
  },
  {
   "cell_type": "code",
   "execution_count": 17,
   "id": "6a255786",
   "metadata": {
    "execution": {
     "iopub.execute_input": "2024-06-11T17:08:13.788039Z",
     "iopub.status.busy": "2024-06-11T17:08:13.787250Z",
     "iopub.status.idle": "2024-06-11T17:08:13.800092Z",
     "shell.execute_reply": "2024-06-11T17:08:13.798487Z"
    },
    "papermill": {
     "duration": 0.057694,
     "end_time": "2024-06-11T17:08:13.804972",
     "exception": false,
     "start_time": "2024-06-11T17:08:13.747278",
     "status": "completed"
    },
    "tags": []
   },
   "outputs": [
    {
     "name": "stdout",
     "output_type": "stream",
     "text": [
      "Regression metrics on the test set\n",
      "R2 Score: 0.4050700313322776\n",
      "MAE: 5.136926982673618\n",
      "MSE: 43.96828446113881\n"
     ]
    }
   ],
   "source": [
    "# Evaluate model using evaluation functions\n",
    "print('Regression metrics on the test set')\n",
    "print(f'R2 Score: {r2_score(y_test, y_preds)}')\n",
    "print(f'MAE: {mean_absolute_error(y_test, y_preds)}')\n",
    "print(f'MSE: {mean_squared_error(y_test, y_preds)}')"
   ]
  }
 ],
 "metadata": {
  "kaggle": {
   "accelerator": "none",
   "dataSources": [
    {
     "datasetId": 5063603,
     "sourceId": 8487955,
     "sourceType": "datasetVersion"
    }
   ],
   "dockerImageVersionId": 30732,
   "isGpuEnabled": false,
   "isInternetEnabled": true,
   "language": "python",
   "sourceType": "notebook"
  },
  "kernelspec": {
   "display_name": "Python 3",
   "language": "python",
   "name": "python3"
  },
  "language_info": {
   "codemirror_mode": {
    "name": "ipython",
    "version": 3
   },
   "file_extension": ".py",
   "mimetype": "text/x-python",
   "name": "python",
   "nbconvert_exporter": "python",
   "pygments_lexer": "ipython3",
   "version": "3.10.13"
  },
  "papermill": {
   "default_parameters": {},
   "duration": 9.030592,
   "end_time": "2024-06-11T17:08:14.451532",
   "environment_variables": {},
   "exception": null,
   "input_path": "__notebook__.ipynb",
   "output_path": "__notebook__.ipynb",
   "parameters": {},
   "start_time": "2024-06-11T17:08:05.420940",
   "version": "2.5.0"
  }
 },
 "nbformat": 4,
 "nbformat_minor": 5
}
